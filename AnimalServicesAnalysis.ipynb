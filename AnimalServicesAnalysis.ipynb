{
 "cells": [
  {
   "cell_type": "markdown",
   "metadata": {},
   "source": [
    "## Louisville Metro Animal Services: Cats and Dogs\n",
    "### Introduction/Overview\n",
    "   Household pets, such as cats and dogs, are dear to many a human heart, but sometimes beloved pets end up in a different situation. How do they often fare? In this project, I set out to examine a dataset put together over several years by the Louisville Metro Animal Services. Both wildlife and household pets go through animal services, but in this report the reasons for intake and outcomes are examined for two common pets: cats and dogs. By analyzing the data, it becomes evident that cats and dogs are indeed not the same, and unsurprisingly have very different outcomes when they find themselves in the animal shelter.\n",
    "   \n",
    "   To examine the outcomes of cats and dogs brought to animal services, I gathered a dataset from Louisville, KY's Open Data database website (https://data.louisvilleky.gov). Python, Jupyter Notebook, and Matplotlib were used to create the resulting graphs to aid in the analyzation of data. Initially I used SQL to make queries of interest to me, such as looking at how many black cats were taken in, and what other kinds of animals are brought in. There is a very large amount of data in this set, so cats and dogs were settled upon. \n",
    "   \n",
    "   The question to answer with this analysis: **how do the intake reasons and outcomes differ for cats and dogs at Louisville Metro Animal Services?** The animal's health status at intake, resulting outcome, and reasons for intake were chosen to visualize in this report. These were chosen to illustrate just how many beloved pets are brought in for a variety of reasons, and to highlight the importance of spaying/neutering pets and also the importance of taking pet ownership seriously. "
   ]
  },
  {
   "cell_type": "markdown",
   "metadata": {},
   "source": [
    "### Glossary\n",
    "\n",
    "**Intake Asilomar Status**: The following is stated of The Asilomar Accords, an widely known agreement between animal welfare agents:\n",
    "\n",
    "*In August of 2004, a group of animal welfare industry leaders from across the nation convened at Asilomar in Pacific Grove, California, for the purpose of building bridges across varying philosophies, developing relationships and creating goals focused on significantly reducing the euthanasia of healthy and treatable companion animals in the United States.*\n",
    "\n",
    "This document outlines agreed-upon terms to define an animal's condition upon intake: \n",
    "\n",
    "***Healthy*** - Animal is healthy and pose no safety or health risk.\n",
    "\n",
    "***Treatable + Rehabilitable*** - Animal is not healthy but can become so with proper treatment.\n",
    "\n",
    "***Treatable + Manageable*** - Animal is not healthy and have a permanant condition that, with consistent treatment, does not impact the animal's quality of life.\n",
    "\n",
    "***Unhealthy + Untreatable*** - Animal has behavioral issues that are unmanageable for pet owners, or has a disease or injury that negatively impacts the animal's quality of life.\n",
    "\n",
    "**Intake Reason**: The main reason for which the animal is brought in to Metro Animal Services.\n",
    "\n",
    "**TNR**: Stands for Trap, Neuter(Spay), Return. This refers to the practice of trapping stray animals, to neuter/spay them and then return them to their previous environment. This helps cut down the stray population and gives the animal a chance out in the wild.\n",
    "\n",
    "**RTO**: Stands for Return to Owner. This refers to an outcome type in which the animal is returned to the owner of the animal. For example, an owner can bring the animal in for veterinary services or the animal was turned in at at Animal Services because it was found away from home."
   ]
  },
  {
   "cell_type": "markdown",
   "metadata": {},
   "source": [
    "## Install matplotlib and initialize database"
   ]
  },
  {
   "cell_type": "code",
   "execution_count": 1,
   "metadata": {
    "scrolled": true
   },
   "outputs": [
    {
     "name": "stdout",
     "output_type": "stream",
     "text": [
      "Collecting pip\n",
      "\u001b[?25l  Downloading https://files.pythonhosted.org/packages/62/ca/94d32a6516ed197a491d17d46595ce58a83cbb2fca280414e57cd86b84dc/pip-19.2.1-py2.py3-none-any.whl (1.4MB)\n",
      "\u001b[K    100% |████████████████████████████████| 1.4MB 13.5MB/s ta 0:00:01\n",
      "\u001b[?25hInstalling collected packages: pip\n",
      "  Found existing installation: pip 19.0.3\n",
      "    Uninstalling pip-19.0.3:\n",
      "      Successfully uninstalled pip-19.0.3\n",
      "Successfully installed pip-19.2.1\n",
      "Requirement already satisfied: msgpack in /anaconda3/lib/python3.7/site-packages (0.6.1)\n",
      "Requirement already satisfied: matplotlib in /anaconda3/lib/python3.7/site-packages (3.0.3)\n",
      "Requirement already satisfied: numpy>=1.10.0 in /anaconda3/lib/python3.7/site-packages (from matplotlib) (1.16.2)\n",
      "Requirement already satisfied: cycler>=0.10 in /anaconda3/lib/python3.7/site-packages (from matplotlib) (0.10.0)\n",
      "Requirement already satisfied: kiwisolver>=1.0.1 in /anaconda3/lib/python3.7/site-packages (from matplotlib) (1.0.1)\n",
      "Requirement already satisfied: pyparsing!=2.0.4,!=2.1.2,!=2.1.6,>=2.0.1 in /anaconda3/lib/python3.7/site-packages (from matplotlib) (2.3.1)\n",
      "Requirement already satisfied: python-dateutil>=2.1 in /anaconda3/lib/python3.7/site-packages (from matplotlib) (2.8.0)\n",
      "Requirement already satisfied: six in /anaconda3/lib/python3.7/site-packages (from cycler>=0.10->matplotlib) (1.12.0)\n",
      "Requirement already satisfied: setuptools in /anaconda3/lib/python3.7/site-packages (from kiwisolver>=1.0.1->matplotlib) (40.8.0)\n"
     ]
    }
   ],
   "source": [
    "# Install matplotlib\n",
    "import sys\n",
    "!{sys.executable} -m pip install --upgrade pip\n",
    "!{sys.executable} -m pip install msgpack\n",
    "!{sys.executable} -m pip install matplotlib\n",
    "%matplotlib inline"
   ]
  },
  {
   "cell_type": "code",
   "execution_count": 2,
   "metadata": {},
   "outputs": [],
   "source": [
    "import sqlite3\n",
    "import pandas as pd\n",
    "import matplotlib.pyplot as plt\n",
    "import numpy as np\n",
    "\n",
    "# Sizing of charts\n",
    "plt.rcParams['figure.figsize'] = [8,5]\n",
    "plt.rcParams['figure.dpi'] = 90\n",
    "\n",
    "# Create sqlite database\n",
    "conn = sqlite3.connect('animal_services.db')\n",
    "# Read CSV into a variable\n",
    "animalservices_data = pd.read_csv('louisville_animal_services_data.csv')\n",
    "# Use as SQL\n",
    "animalservices_data.to_sql('animalservices_data', conn, if_exists='replace')"
   ]
  },
  {
   "cell_type": "markdown",
   "metadata": {},
   "source": [
    "## Outcomes\n",
    "There are many different outcomes a cat or dog can have, so 7 of the most common were examined: euthanization, death, adoption, missing, foster, RTO, and release.\n"
   ]
  },
  {
   "cell_type": "code",
   "execution_count": 3,
   "metadata": {},
   "outputs": [],
   "source": [
    "# Cat outcomes\n",
    "catOutcomes = pd.read_sql_query(\"\"\"\n",
    "    SELECT \n",
    "    DISTINCT OutcomeType as 'Outcome', \n",
    "    COUNT(*) as 'Count' \n",
    "    FROM animalservices_data\n",
    "    WHERE AnimalType = 'CAT'\n",
    "    AND (OutcomeType = \"EUTH\"\n",
    "    OR OutcomeType = \"DIED\"\n",
    "    OR OutcomeType = \"ADOPTION\"\n",
    "    OR OutcomeType = \"MISSING\"\n",
    "    OR OutcomeType = \"FOSTER\"\n",
    "    OR OutcomeType = \"RTO\"\n",
    "    OR OutcomeType = \"RELEASED\")\n",
    "    GROUP BY OutcomeType\n",
    "    ORDER BY Count DESC\n",
    "    ;\n",
    "\"\"\", conn)"
   ]
  },
  {
   "cell_type": "code",
   "execution_count": 4,
   "metadata": {},
   "outputs": [],
   "source": [
    "# Dog outcomes\n",
    "dogOutcomes = pd.read_sql_query(\"\"\"\n",
    "    SELECT \n",
    "    DISTINCT OutcomeType as 'Outcome', \n",
    "    COUNT(*) as 'Count' \n",
    "    FROM animalservices_data\n",
    "    WHERE AnimalType = 'DOG'\n",
    "    AND (OutcomeType = \"EUTH\"\n",
    "    OR OutcomeType = \"DIED\"\n",
    "    OR OutcomeType = \"ADOPTION\"\n",
    "    OR OutcomeType = \"MISSING\"\n",
    "    OR OutcomeType = \"FOSTER\"\n",
    "    OR OutcomeType = \"RTO\"\n",
    "    OR OutcomeType = \"RELEASED\")\n",
    "    GROUP BY OutcomeType\n",
    "    ORDER BY Count DESC\n",
    "    ;\n",
    "\"\"\", conn)"
   ]
  },
  {
   "cell_type": "code",
   "execution_count": 5,
   "metadata": {},
   "outputs": [
    {
     "data": {
      "image/png": "[encoded data removed]",
      "text/plain": [
       "<Figure size 720x450 with 1 Axes>"
      ]
     },
     "metadata": {
      "needs_background": "light"
     },
     "output_type": "display_data"
    }
   ],
   "source": [
    "# Bar chart for outcome\n",
    "barWidth = 0.30\n",
    "bars1 = catOutcomes[\"Count\"]\n",
    "bars2 = dogOutcomes[\"Count\"]\n",
    "r1 = np.arange(len(bars1))\n",
    "r2 = [x + barWidth for x in r1]\n",
    "plt.bar(r1, bars1, color='#0F8B8D', width=barWidth, edgecolor='black', label='Cats')\n",
    "plt.bar(r2, bars2, color='#EC9A29', width=barWidth, edgecolor='black', label='Dogs')\n",
    "plt.xlabel('Outcome', fontweight='bold')\n",
    "plt.xticks([r + barWidth for r in range(len(bars1))], catOutcomes[\"Outcome\"])\n",
    "\n",
    "plt.legend()\n",
    "plt.show()"
   ]
  },
  {
   "cell_type": "markdown",
   "metadata": {},
   "source": [
    "   This chart illustrates some vast differences between the outcomes of the two animals. Euthanasia is by far the most common outcome, and is more common for cats. Adoption and fostering is far more common for dogs than for cats. More dogs are reported as having died as an outcome than cats... perhaps more dogs come in due to owner's inability to treat illness, or perhaps stray dogs are less likely to come in healthy. Somewhat surprisingly, very few pets are returned to owner... suggesting that Animal Services does not often receive lost pets. It is interesting to see results for release on dogs, since only cats had entries for TNR (trap, neuter, release)."
   ]
  },
  {
   "cell_type": "markdown",
   "metadata": {},
   "source": [
    "## Status at Outcome\n",
    "The Asilomar Status column will be used to make comparisons of the health status at outcome for cats and dogs once they have been taken in to Animal Services."
   ]
  },
  {
   "cell_type": "code",
   "execution_count": 6,
   "metadata": {},
   "outputs": [
    {
     "data": {
      "text/html": [
       "<div>\n",
       "<style scoped>\n",
       "    .dataframe tbody tr th:only-of-type {\n",
       "        vertical-align: middle;\n",
       "    }\n",
       "\n",
       "    .dataframe tbody tr th {\n",
       "        vertical-align: top;\n",
       "    }\n",
       "\n",
       "    .dataframe thead th {\n",
       "        text-align: right;\n",
       "    }\n",
       "</style>\n",
       "<table border=\"1\" class=\"dataframe\">\n",
       "  <thead>\n",
       "    <tr style=\"text-align: right;\">\n",
       "      <th></th>\n",
       "      <th>Status</th>\n",
       "      <th>Count</th>\n",
       "    </tr>\n",
       "  </thead>\n",
       "  <tbody>\n",
       "    <tr>\n",
       "      <th>0</th>\n",
       "      <td>HEALTHY</td>\n",
       "      <td>65970</td>\n",
       "    </tr>\n",
       "    <tr>\n",
       "      <th>1</th>\n",
       "      <td>UNHEALTHY/UNTREATABLE</td>\n",
       "      <td>2692</td>\n",
       "    </tr>\n",
       "    <tr>\n",
       "      <th>2</th>\n",
       "      <td>TREATABLE/MANAGEABLE</td>\n",
       "      <td>18</td>\n",
       "    </tr>\n",
       "  </tbody>\n",
       "</table>\n",
       "</div>"
      ],
      "text/plain": [
       "                  Status  Count\n",
       "0                HEALTHY  65970\n",
       "1  UNHEALTHY/UNTREATABLE   2692\n",
       "2   TREATABLE/MANAGEABLE     18"
      ]
     },
     "execution_count": 6,
     "metadata": {},
     "output_type": "execute_result"
    }
   ],
   "source": [
    "#Outcome Asilomar Status for cats\n",
    "outcomeCats = pd.read_sql_query(\"\"\"\n",
    "    SELECT \n",
    "    DISTINCT OutcomeAsilomarStatus as 'Status', \n",
    "    COUNT(*) as 'Count' \n",
    "    FROM animalservices_data\n",
    "    WHERE AnimalType = 'CAT' AND OutcomeAsilomarStatus != 'None'\n",
    "    GROUP BY OutcomeAsilomarStatus\n",
    "    ORDER BY Count DESC\n",
    "    ;\n",
    "\"\"\", conn)\n",
    "outcomeCats"
   ]
  },
  {
   "cell_type": "code",
   "execution_count": 7,
   "metadata": {},
   "outputs": [
    {
     "data": {
      "text/html": [
       "<div>\n",
       "<style scoped>\n",
       "    .dataframe tbody tr th:only-of-type {\n",
       "        vertical-align: middle;\n",
       "    }\n",
       "\n",
       "    .dataframe tbody tr th {\n",
       "        vertical-align: top;\n",
       "    }\n",
       "\n",
       "    .dataframe thead th {\n",
       "        text-align: right;\n",
       "    }\n",
       "</style>\n",
       "<table border=\"1\" class=\"dataframe\">\n",
       "  <thead>\n",
       "    <tr style=\"text-align: right;\">\n",
       "      <th></th>\n",
       "      <th>Status</th>\n",
       "      <th>Count</th>\n",
       "    </tr>\n",
       "  </thead>\n",
       "  <tbody>\n",
       "    <tr>\n",
       "      <th>0</th>\n",
       "      <td>HEALTHY</td>\n",
       "      <td>76585</td>\n",
       "    </tr>\n",
       "    <tr>\n",
       "      <th>1</th>\n",
       "      <td>TREATABLE/MANAGEABLE</td>\n",
       "      <td>369</td>\n",
       "    </tr>\n",
       "    <tr>\n",
       "      <th>2</th>\n",
       "      <td>UNHEALTHY/UNTREATABLE</td>\n",
       "      <td>54</td>\n",
       "    </tr>\n",
       "  </tbody>\n",
       "</table>\n",
       "</div>"
      ],
      "text/plain": [
       "                  Status  Count\n",
       "0                HEALTHY  76585\n",
       "1   TREATABLE/MANAGEABLE    369\n",
       "2  UNHEALTHY/UNTREATABLE     54"
      ]
     },
     "execution_count": 7,
     "metadata": {},
     "output_type": "execute_result"
    }
   ],
   "source": [
    "#Outcome Asilomar Status for dogs\n",
    "outcomeDogs = pd.read_sql_query(\"\"\"\n",
    "    SELECT \n",
    "    DISTINCT OutcomeAsilomarStatus as 'Status', \n",
    "    COUNT(*) as 'Count' \n",
    "    FROM animalservices_data\n",
    "    WHERE AnimalType = 'DOG' AND OutcomeAsilomarStatus != 'None'\n",
    "    GROUP BY OutcomeAsilomarStatus\n",
    "    ORDER BY Count DESC\n",
    "    ;\n",
    "\"\"\", conn)\n",
    "outcomeDogs"
   ]
  },
  {
   "cell_type": "code",
   "execution_count": 8,
   "metadata": {},
   "outputs": [
    {
     "data": {
      "image/png": "[encoded data removed]",
      "text/plain": [
       "<Figure size 720x450 with 1 Axes>"
      ]
     },
     "metadata": {
      "needs_background": "light"
     },
     "output_type": "display_data"
    }
   ],
   "source": [
    "barWidth = 0.30\n",
    "bars1 = outcomeCats[\"Count\"]\n",
    "bars2 = outcomeDogs[\"Count\"]\n",
    "r1 = np.arange(len(bars1))\n",
    "r2 = [x + barWidth for x in r1]\n",
    "plt.bar(r1, bars1, color='#0F8B8D', width=barWidth, edgecolor='black', label='Cats')\n",
    "plt.bar(r2, bars2, color='#EC9A29', width=barWidth, edgecolor='black', label='Dogs')\n",
    "plt.xlabel('Asilomar Status at Outcome', fontweight='bold')\n",
    "plt.xticks([r + barWidth for r in range(len(bars1))], outcomeCats[\"Status\"])\n",
    "axes = plt.gca()\n",
    "axes.set_ylim(0, 77000)\n",
    "plt.legend()\n",
    "plt.show()"
   ]
  },
  {
   "cell_type": "markdown",
   "metadata": {},
   "source": [
    "Treatable/Manageable status is nearly non-existent for both cats and dogs, so it can be inferred that it is uncommon for a pet to leave Animal Services with a condition to recieve consistent medical attention. The vast majority of pets have a healthy outcome, especially dogs. Cats have a higher rate of being impossible for Animal Services to treat. If we look back at the former graph of outcomes, it is despairing to see how many dogs and cats are healthy, but still euthanized... likely due to shelter overcrowding."
   ]
  },
  {
   "cell_type": "markdown",
   "metadata": {},
   "source": [
    "## Intake reasons\n",
    "The dataset includes information about noted intake reasons for animals brought in to Animal Services. It should be noted that the majority of records do not have an entry for this field: 77 percent of all entries gathered for both cats and dogs did not include a reason for intake."
   ]
  },
  {
   "cell_type": "code",
   "execution_count": 9,
   "metadata": {},
   "outputs": [],
   "source": [
    "# Query the Top 10 IntakeReasons per Cat\n",
    "# This does not include the many rows that are 'None'\n",
    "catIntake = pd.read_sql_query(\"\"\"\n",
    "    SELECT \n",
    "    DISTINCT IntakeReason as 'Intake Reason', \n",
    "    COUNT(*) as 'Count' \n",
    "    FROM animalservices_data\n",
    "    WHERE AnimalType = 'CAT' AND IntakeReason != 'None'\n",
    "    GROUP BY IntakeReason\n",
    "    ORDER BY Count DESC\n",
    "    LIMIT 10\n",
    "    ;\n",
    "\"\"\", conn)\n"
   ]
  },
  {
   "cell_type": "code",
   "execution_count": 10,
   "metadata": {},
   "outputs": [],
   "source": [
    "# Query the Top 10 IntakeReasons per Dog\n",
    "# This does not include the many rows that are 'None'\n",
    "dogIntake = pd.read_sql_query(\"\"\"\n",
    "    SELECT \n",
    "    DISTINCT IntakeReason as 'Intake Reason', \n",
    "    COUNT(*) as 'Count' \n",
    "    FROM animalservices_data\n",
    "    WHERE AnimalType = 'DOG' AND IntakeReason != 'None'\n",
    "    GROUP BY IntakeReason\n",
    "    ORDER BY Count DESC\n",
    "    LIMIT 10\n",
    "    ;\n",
    "\"\"\", conn)\n",
    "df = pd.read_sql_query(\"\"\"\n",
    "    SELECT \n",
    "    IntakeReason\n",
    "    FROM animalservices_data\n",
    "    WHERE AnimalType = 'DOG' OR AnimalType = 'CAT'\n",
    "    ;\n",
    "\"\"\", conn).fillna('None')\n"
   ]
  },
  {
   "cell_type": "code",
   "execution_count": 11,
   "metadata": {},
   "outputs": [
    {
     "data": {
      "text/plain": [
       "IntakeReason    76.813402\n",
       "dtype: float64"
      ]
     },
     "execution_count": 11,
     "metadata": {},
     "output_type": "execute_result"
    }
   ],
   "source": [
    "# Get total number of entries, total entires without a reason, then get percentage of \n",
    "# entries that DO NOT have a reason listed.\n",
    "totalEntries = df['IntakeReason'].count()\n",
    "totalNoneEntries = df.loc[df['IntakeReason'] == 'None'].count()\n",
    "(totalNoneEntries / totalEntries) * 100"
   ]
  },
  {
   "cell_type": "code",
   "execution_count": 12,
   "metadata": {
    "scrolled": false
   },
   "outputs": [
    {
     "data": {
      "image/png": "[encoded data removed]",
      "text/plain": [
       "<Figure size 900x540 with 2 Axes>"
      ]
     },
     "metadata": {},
     "output_type": "display_data"
    }
   ],
   "source": [
    "fig, (ax1, ax2) = plt.subplots(1,2, figsize=(10, 6))\n",
    "\n",
    "# Pie chart for cat intake reasons\n",
    "labels = catIntake[\"Intake Reason\"]\n",
    "catCount = catIntake[\"Count\"]\n",
    "explode = (0, 0.1, 0, 0, 0, 0, 0, 0, 0, 0)\n",
    "ax1.pie(catCount, labels=labels, explode=explode)\n",
    "ax1.set_title(\"Cat Intake Reasons\")\n",
    "\n",
    "# Pie chart for dog intake reasons\n",
    "labels = dogIntake[\"Intake Reason\"]\n",
    "dogCount = dogIntake[\"Count\"]\n",
    "explode = (0, 0.1, 0, 0, 0, 0, 0, 0, 0, 0)\n",
    "ax2.pie(dogCount, labels=labels, explode=explode)\n",
    "ax2.set_title(\"Dog Intake Reasons\")\n",
    "\n",
    "plt.subplots_adjust(wspace=0.6, left=0.1)\n",
    "plt.show()"
   ]
  },
  {
   "cell_type": "markdown",
   "metadata": {},
   "source": [
    "Sampling the remaining entries that do include an intake reason, it is evident that the intake reasons for cats and dogs differ. Cats and dogs both overwhelmingly come in as strays, with cats coming in as strays slightly more frequently. When examining the top ten intake reasons, one can see that there are a variety of different reasons for each animal. For cats, the second most common reason for intake is that an owner surrendered or lost the animal due to having too many animals. For dogs, the second most common reason is \"move,\" which illustrates that most owners surrender or lose their dogs due to the inability to make arrangements for their pet when moving to a new home. \n",
    "\n",
    "Both pets share the following reasons in the top ten: moving house, cost of ownership, landlord, no time for the pet, and having too many. Judging from the following pie charts, it appears more likely that cats would be surrendered due to allergies than dogs, and dogs were more likely to be surrendered due to aggression and behavioral problems."
   ]
  },
  {
   "cell_type": "markdown",
   "metadata": {},
   "source": [
    "### Conclusion\n",
    "\n",
    "While circumstances happen out of our control as pet owners, we have seen that there is an alarming number of healthy cats and dogs euthanized at animal services. This is not suprising or unique for Louisville, however: ASPCA.org reports that 3.2 million cats and 3.3 million dogs enter shelters annually across the United States. There is a bright side, as the ASPCA's website also states that the number of cats and dogs euthanized has declined from 2.6 million in 2011 to 1.5 million. This is due to, as they explain, a rise in adoption and animals returned to their owners. Perhaps with more emphasis on spaying and neutering our pets, and promoting adoption, we will see that this trend will continue. "
   ]
  },
  {
   "cell_type": "markdown",
   "metadata": {},
   "source": [
    "#### References\n",
    "Animal Service Intake and Outcome dataset: https://data.louisvilleky.gov/dataset/animal-service-intake-and-outcome\n",
    "\n",
    "The Asilomar Accords: https://www.shelteranimalscount.org/docs/default-source/DataResources/2004aaccords5.pdf?sfvrsn=31c1ff76_0\n",
    "\n",
    "ASPCA Pet Statistics: https://www.aspca.org/animal-homelessness/shelter-intake-and-surrender/pet-statistics"
   ]
  }
 ],
 "metadata": {
  "kernelspec": {
   "display_name": "Python 3",
   "language": "python",
   "name": "python3"
  },
  "language_info": {
   "codemirror_mode": {
    "name": "ipython",
    "version": 3
   },
   "file_extension": ".py",
   "mimetype": "text/x-python",
   "name": "python",
   "nbconvert_exporter": "python",
   "pygments_lexer": "ipython3",
   "version": "3.7.3"
  }
 },
 "nbformat": 4,
 "nbformat_minor": 2
}
