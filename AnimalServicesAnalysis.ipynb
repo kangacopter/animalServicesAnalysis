{
 "cells": [
  {
   "cell_type": "markdown",
   "metadata": {},
   "source": [
    "## Animal Services Report\n",
    "### Introduction\n",
    "### Thesis\n",
    "### Glossary"
   ]
  },
  {
   "cell_type": "code",
   "execution_count": 1,
   "metadata": {},
   "outputs": [
    {
     "name": "stdout",
     "output_type": "stream",
     "text": [
      "Requirement already up-to-date: pip in /home/kellyrussell/miniconda3/lib/python3.7/site-packages (19.1.1)\n",
      "Requirement already satisfied: msgpack in /home/kellyrussell/miniconda3/lib/python3.7/site-packages (0.6.1)\n",
      "Requirement already satisfied: matplotlib in /home/kellyrussell/miniconda3/lib/python3.7/site-packages (3.1.1)\n",
      "Requirement already satisfied: kiwisolver>=1.0.1 in /home/kellyrussell/miniconda3/lib/python3.7/site-packages (from matplotlib) (1.1.0)\n",
      "Requirement already satisfied: cycler>=0.10 in /home/kellyrussell/miniconda3/lib/python3.7/site-packages (from matplotlib) (0.10.0)\n",
      "Requirement already satisfied: numpy>=1.11 in /home/kellyrussell/miniconda3/lib/python3.7/site-packages (from matplotlib) (1.16.4)\n",
      "Requirement already satisfied: pyparsing!=2.0.4,!=2.1.2,!=2.1.6,>=2.0.1 in /home/kellyrussell/miniconda3/lib/python3.7/site-packages (from matplotlib) (2.4.0)\n",
      "Requirement already satisfied: python-dateutil>=2.1 in /home/kellyrussell/miniconda3/lib/python3.7/site-packages (from matplotlib) (2.8.0)\n",
      "Requirement already satisfied: setuptools in /home/kellyrussell/miniconda3/lib/python3.7/site-packages (from kiwisolver>=1.0.1->matplotlib) (41.0.0)\n",
      "Requirement already satisfied: six in /home/kellyrussell/miniconda3/lib/python3.7/site-packages (from cycler>=0.10->matplotlib) (1.12.0)\n"
     ]
    }
   ],
   "source": [
    "# Install matplotlib\n",
    "import sys\n",
    "!{sys.executable} -m pip install --upgrade pip\n",
    "!{sys.executable} -m pip install msgpack\n",
    "!{sys.executable} -m pip install matplotlib\n",
    "%matplotlib inline"
   ]
  },
  {
   "cell_type": "code",
   "execution_count": 25,
   "metadata": {},
   "outputs": [],
   "source": [
    "import sqlite3\n",
    "import pandas as pd\n",
    "import matplotlib.pyplot as plt\n",
    "import numpy as np\n",
    "\n",
    "# Sizing of charts\n",
    "plt.rcParams['figure.figsize'] = [8,5]\n",
    "plt.rcParams['figure.dpi'] = 90\n",
    "\n",
    "# Create sqlite database\n",
    "conn = sqlite3.connect('animal_services.db')\n",
    "# Read CSV into a variable\n",
    "animalservices_data = pd.read_csv('louisville_animal_services_data.csv')\n",
    "# Use as SQL\n",
    "animalservices_data.to_sql('animalservices_data', conn, if_exists='replace')"
   ]
  },
  {
   "cell_type": "markdown",
   "metadata": {},
   "source": [
    "## Animal Types\n",
    "* What kinds of animals do animal services see?\n",
    "* Segway into cat/dog focus"
   ]
  },
  {
   "cell_type": "code",
   "execution_count": 4,
   "metadata": {},
   "outputs": [
    {
     "data": {
      "text/html": [
       "<div>\n",
       "<style scoped>\n",
       "    .dataframe tbody tr th:only-of-type {\n",
       "        vertical-align: middle;\n",
       "    }\n",
       "\n",
       "    .dataframe tbody tr th {\n",
       "        vertical-align: top;\n",
       "    }\n",
       "\n",
       "    .dataframe thead th {\n",
       "        text-align: right;\n",
       "    }\n",
       "</style>\n",
       "<table border=\"1\" class=\"dataframe\">\n",
       "  <thead>\n",
       "    <tr style=\"text-align: right;\">\n",
       "      <th></th>\n",
       "      <th>Animal Types</th>\n",
       "      <th>Count</th>\n",
       "    </tr>\n",
       "  </thead>\n",
       "  <tbody>\n",
       "    <tr>\n",
       "      <th>0</th>\n",
       "      <td>BIRD</td>\n",
       "      <td>1185</td>\n",
       "    </tr>\n",
       "    <tr>\n",
       "      <th>1</th>\n",
       "      <td>CAT</td>\n",
       "      <td>68741</td>\n",
       "    </tr>\n",
       "    <tr>\n",
       "      <th>2</th>\n",
       "      <td>DOG</td>\n",
       "      <td>77145</td>\n",
       "    </tr>\n",
       "    <tr>\n",
       "      <th>3</th>\n",
       "      <td>FERRET</td>\n",
       "      <td>91</td>\n",
       "    </tr>\n",
       "    <tr>\n",
       "      <th>4</th>\n",
       "      <td>LIVESTOCK</td>\n",
       "      <td>256</td>\n",
       "    </tr>\n",
       "    <tr>\n",
       "      <th>5</th>\n",
       "      <td>OTHER</td>\n",
       "      <td>1341</td>\n",
       "    </tr>\n",
       "    <tr>\n",
       "      <th>6</th>\n",
       "      <td>RABBIT</td>\n",
       "      <td>1139</td>\n",
       "    </tr>\n",
       "    <tr>\n",
       "      <th>7</th>\n",
       "      <td>REPTILE</td>\n",
       "      <td>263</td>\n",
       "    </tr>\n",
       "    <tr>\n",
       "      <th>8</th>\n",
       "      <td>RODENT</td>\n",
       "      <td>681</td>\n",
       "    </tr>\n",
       "  </tbody>\n",
       "</table>\n",
       "</div>"
      ],
      "text/plain": [
       "  Animal Types  Count\n",
       "0         BIRD   1185\n",
       "1          CAT  68741\n",
       "2          DOG  77145\n",
       "3       FERRET     91\n",
       "4    LIVESTOCK    256\n",
       "5        OTHER   1341\n",
       "6       RABBIT   1139\n",
       "7      REPTILE    263\n",
       "8       RODENT    681"
      ]
     },
     "execution_count": 4,
     "metadata": {},
     "output_type": "execute_result"
    }
   ],
   "source": [
    "# How many different types of animals were brought in?\n",
    "pd.read_sql_query(\"\"\"\n",
    "    SELECT DISTINCT AnimalType as 'Animal Types', \n",
    "    COUNT(*) as 'Count' \n",
    "    FROM animalservices_data\n",
    "    GROUP BY AnimalType;\n",
    "\"\"\", conn)"
   ]
  },
  {
   "cell_type": "markdown",
   "metadata": {},
   "source": [
    "## The Black Cat Query\n",
    "* We've always heard that black cats have the worst luck, but is it true?\n",
    "* Maybe run another that shows the worst outcome..."
   ]
  },
  {
   "cell_type": "code",
   "execution_count": 5,
   "metadata": {},
   "outputs": [
    {
     "data": {
      "text/html": [
       "<div>\n",
       "<style scoped>\n",
       "    .dataframe tbody tr th:only-of-type {\n",
       "        vertical-align: middle;\n",
       "    }\n",
       "\n",
       "    .dataframe tbody tr th {\n",
       "        vertical-align: top;\n",
       "    }\n",
       "\n",
       "    .dataframe thead th {\n",
       "        text-align: right;\n",
       "    }\n",
       "</style>\n",
       "<table border=\"1\" class=\"dataframe\">\n",
       "  <thead>\n",
       "    <tr style=\"text-align: right;\">\n",
       "      <th></th>\n",
       "      <th>Cat Color</th>\n",
       "      <th>Count</th>\n",
       "    </tr>\n",
       "  </thead>\n",
       "  <tbody>\n",
       "    <tr>\n",
       "      <th>0</th>\n",
       "      <td>BLACK</td>\n",
       "      <td>42259</td>\n",
       "    </tr>\n",
       "    <tr>\n",
       "      <th>1</th>\n",
       "      <td>WHITE</td>\n",
       "      <td>17379</td>\n",
       "    </tr>\n",
       "    <tr>\n",
       "      <th>2</th>\n",
       "      <td>BROWN</td>\n",
       "      <td>16764</td>\n",
       "    </tr>\n",
       "    <tr>\n",
       "      <th>3</th>\n",
       "      <td>GRAY</td>\n",
       "      <td>11566</td>\n",
       "    </tr>\n",
       "    <tr>\n",
       "      <th>4</th>\n",
       "      <td>TAN</td>\n",
       "      <td>7722</td>\n",
       "    </tr>\n",
       "    <tr>\n",
       "      <th>5</th>\n",
       "      <td>BROWN TABBY</td>\n",
       "      <td>7015</td>\n",
       "    </tr>\n",
       "    <tr>\n",
       "      <th>6</th>\n",
       "      <td>GRAY TABBY</td>\n",
       "      <td>4301</td>\n",
       "    </tr>\n",
       "    <tr>\n",
       "      <th>7</th>\n",
       "      <td>CALICO</td>\n",
       "      <td>3980</td>\n",
       "    </tr>\n",
       "    <tr>\n",
       "      <th>8</th>\n",
       "      <td>TRICOLOR</td>\n",
       "      <td>3892</td>\n",
       "    </tr>\n",
       "    <tr>\n",
       "      <th>9</th>\n",
       "      <td>ORANGE TABBY</td>\n",
       "      <td>3839</td>\n",
       "    </tr>\n",
       "  </tbody>\n",
       "</table>\n",
       "</div>"
      ],
      "text/plain": [
       "      Cat Color  Count\n",
       "0         BLACK  42259\n",
       "1         WHITE  17379\n",
       "2         BROWN  16764\n",
       "3          GRAY  11566\n",
       "4           TAN   7722\n",
       "5   BROWN TABBY   7015\n",
       "6    GRAY TABBY   4301\n",
       "7        CALICO   3980\n",
       "8      TRICOLOR   3892\n",
       "9  ORANGE TABBY   3839"
      ]
     },
     "execution_count": 5,
     "metadata": {},
     "output_type": "execute_result"
    }
   ],
   "source": [
    "# Black cat query... don't break mah heart:\n",
    "pd.read_sql_query(\"\"\"\n",
    "    SELECT DISTINCT PrimaryColor as 'Cat Color', \n",
    "    COUNT(*) as 'Count' \n",
    "    FROM animalservices_data\n",
    "    GROUP BY PrimaryColor\n",
    "    ORDER BY Count DESC\n",
    "    LIMIT 10;\n",
    "\"\"\", conn)"
   ]
  },
  {
   "cell_type": "markdown",
   "metadata": {},
   "source": [
    "## Outcomes\n",
    "* List the top ten distinct outcomes for cats and dogs\n",
    "* Overwhelming amount of pets are euthanized.\n",
    "* See if you can figure out what RTO, TNR are?"
   ]
  },
  {
   "cell_type": "code",
   "execution_count": 136,
   "metadata": {},
   "outputs": [
    {
     "data": {
      "text/html": [
       "<div>\n",
       "<style scoped>\n",
       "    .dataframe tbody tr th:only-of-type {\n",
       "        vertical-align: middle;\n",
       "    }\n",
       "\n",
       "    .dataframe tbody tr th {\n",
       "        vertical-align: top;\n",
       "    }\n",
       "\n",
       "    .dataframe thead th {\n",
       "        text-align: right;\n",
       "    }\n",
       "</style>\n",
       "<table border=\"1\" class=\"dataframe\">\n",
       "  <thead>\n",
       "    <tr style=\"text-align: right;\">\n",
       "      <th></th>\n",
       "      <th>Outcome</th>\n",
       "      <th>Count</th>\n",
       "    </tr>\n",
       "  </thead>\n",
       "  <tbody>\n",
       "    <tr>\n",
       "      <th>0</th>\n",
       "      <td>EUTH</td>\n",
       "      <td>68358</td>\n",
       "    </tr>\n",
       "    <tr>\n",
       "      <th>1</th>\n",
       "      <td>ADOPTION</td>\n",
       "      <td>25117</td>\n",
       "    </tr>\n",
       "    <tr>\n",
       "      <th>2</th>\n",
       "      <td>TRANSFER</td>\n",
       "      <td>17340</td>\n",
       "    </tr>\n",
       "    <tr>\n",
       "      <th>3</th>\n",
       "      <td>RTO</td>\n",
       "      <td>14248</td>\n",
       "    </tr>\n",
       "    <tr>\n",
       "      <th>4</th>\n",
       "      <td>FOSTER</td>\n",
       "      <td>4574</td>\n",
       "    </tr>\n",
       "    <tr>\n",
       "      <th>5</th>\n",
       "      <td>RELEASED</td>\n",
       "      <td>3460</td>\n",
       "    </tr>\n",
       "    <tr>\n",
       "      <th>6</th>\n",
       "      <td>TNR</td>\n",
       "      <td>3310</td>\n",
       "    </tr>\n",
       "    <tr>\n",
       "      <th>7</th>\n",
       "      <td>DIED</td>\n",
       "      <td>2455</td>\n",
       "    </tr>\n",
       "    <tr>\n",
       "      <th>8</th>\n",
       "      <td>DISPOSAL</td>\n",
       "      <td>1700</td>\n",
       "    </tr>\n",
       "    <tr>\n",
       "      <th>9</th>\n",
       "      <td>TRANSPORT</td>\n",
       "      <td>1660</td>\n",
       "    </tr>\n",
       "  </tbody>\n",
       "</table>\n",
       "</div>"
      ],
      "text/plain": [
       "     Outcome  Count\n",
       "0       EUTH  68358\n",
       "1   ADOPTION  25117\n",
       "2   TRANSFER  17340\n",
       "3        RTO  14248\n",
       "4     FOSTER   4574\n",
       "5   RELEASED   3460\n",
       "6        TNR   3310\n",
       "7       DIED   2455\n",
       "8   DISPOSAL   1700\n",
       "9  TRANSPORT   1660"
      ]
     },
     "execution_count": 136,
     "metadata": {},
     "output_type": "execute_result"
    }
   ],
   "source": [
    "# More heart breaking...\n",
    "pd.read_sql_query(\"\"\"\n",
    "    SELECT \n",
    "    DISTINCT OutcomeType as 'Outcome', \n",
    "    COUNT(*) as 'Count' \n",
    "    FROM animalservices_data\n",
    "    WHERE AnimalType = 'CAT' OR AnimalType = 'DOG'\n",
    "    GROUP BY OutcomeType\n",
    "    ORDER BY Count DESC\n",
    "    LIMIT 10\n",
    "    ;\n",
    "\"\"\", conn)"
   ]
  },
  {
   "cell_type": "markdown",
   "metadata": {},
   "source": [
    "## Status at Outcome\n",
    "* Illustrate the status at outcome\n",
    "* Most animals are healthy at outcome..."
   ]
  },
  {
   "cell_type": "code",
   "execution_count": 7,
   "metadata": {},
   "outputs": [
    {
     "data": {
      "text/html": [
       "<div>\n",
       "<style scoped>\n",
       "    .dataframe tbody tr th:only-of-type {\n",
       "        vertical-align: middle;\n",
       "    }\n",
       "\n",
       "    .dataframe tbody tr th {\n",
       "        vertical-align: top;\n",
       "    }\n",
       "\n",
       "    .dataframe thead th {\n",
       "        text-align: right;\n",
       "    }\n",
       "</style>\n",
       "<table border=\"1\" class=\"dataframe\">\n",
       "  <thead>\n",
       "    <tr style=\"text-align: right;\">\n",
       "      <th></th>\n",
       "      <th>Status at Outcome</th>\n",
       "      <th>Count</th>\n",
       "    </tr>\n",
       "  </thead>\n",
       "  <tbody>\n",
       "    <tr>\n",
       "      <th>0</th>\n",
       "      <td>HEALTHY</td>\n",
       "      <td>147485</td>\n",
       "    </tr>\n",
       "    <tr>\n",
       "      <th>1</th>\n",
       "      <td>UNHEALTHY/UNTREATABLE</td>\n",
       "      <td>2765</td>\n",
       "    </tr>\n",
       "    <tr>\n",
       "      <th>2</th>\n",
       "      <td>TREATABLE/MANAGEABLE</td>\n",
       "      <td>390</td>\n",
       "    </tr>\n",
       "    <tr>\n",
       "      <th>3</th>\n",
       "      <td>None</td>\n",
       "      <td>202</td>\n",
       "    </tr>\n",
       "  </tbody>\n",
       "</table>\n",
       "</div>"
      ],
      "text/plain": [
       "       Status at Outcome   Count\n",
       "0                HEALTHY  147485\n",
       "1  UNHEALTHY/UNTREATABLE    2765\n",
       "2   TREATABLE/MANAGEABLE     390\n",
       "3                   None     202"
      ]
     },
     "execution_count": 7,
     "metadata": {},
     "output_type": "execute_result"
    }
   ],
   "source": [
    "#OutcomeAsilomarStatus\n",
    "pd.read_sql_query(\"\"\"\n",
    "    SELECT \n",
    "    DISTINCT OutcomeAsilomarStatus as 'Status at Outcome', \n",
    "    COUNT(*) as 'Count' \n",
    "    FROM animalservices_data\n",
    "    GROUP BY OutcomeAsilomarStatus\n",
    "    ORDER BY Count DESC\n",
    "    ;\n",
    "\"\"\", conn)"
   ]
  },
  {
   "cell_type": "markdown",
   "metadata": {},
   "source": [
    "## Breeds\n",
    "* What breeds of cat and dog are most common?\n",
    "* Mixed.."
   ]
  },
  {
   "cell_type": "code",
   "execution_count": 8,
   "metadata": {},
   "outputs": [
    {
     "data": {
      "text/html": [
       "<div>\n",
       "<style scoped>\n",
       "    .dataframe tbody tr th:only-of-type {\n",
       "        vertical-align: middle;\n",
       "    }\n",
       "\n",
       "    .dataframe tbody tr th {\n",
       "        vertical-align: top;\n",
       "    }\n",
       "\n",
       "    .dataframe thead th {\n",
       "        text-align: right;\n",
       "    }\n",
       "</style>\n",
       "<table border=\"1\" class=\"dataframe\">\n",
       "  <thead>\n",
       "    <tr style=\"text-align: right;\">\n",
       "      <th></th>\n",
       "      <th>Breed</th>\n",
       "      <th>Count</th>\n",
       "    </tr>\n",
       "  </thead>\n",
       "  <tbody>\n",
       "    <tr>\n",
       "      <th>0</th>\n",
       "      <td>DOMESTIC SHORTHAIR</td>\n",
       "      <td>55161</td>\n",
       "    </tr>\n",
       "    <tr>\n",
       "      <th>1</th>\n",
       "      <td>DOMESTIC MEDIUMHAIR</td>\n",
       "      <td>5986</td>\n",
       "    </tr>\n",
       "    <tr>\n",
       "      <th>2</th>\n",
       "      <td>DOMESTIC LONGHAIR</td>\n",
       "      <td>3295</td>\n",
       "    </tr>\n",
       "    <tr>\n",
       "      <th>3</th>\n",
       "      <td>AMERICAN SHORTHAIR</td>\n",
       "      <td>1607</td>\n",
       "    </tr>\n",
       "    <tr>\n",
       "      <th>4</th>\n",
       "      <td>SIAMESE</td>\n",
       "      <td>1281</td>\n",
       "    </tr>\n",
       "    <tr>\n",
       "      <th>5</th>\n",
       "      <td>MAINE COON</td>\n",
       "      <td>290</td>\n",
       "    </tr>\n",
       "    <tr>\n",
       "      <th>6</th>\n",
       "      <td>RUSSIAN BLUE</td>\n",
       "      <td>156</td>\n",
       "    </tr>\n",
       "    <tr>\n",
       "      <th>7</th>\n",
       "      <td>BENGAL</td>\n",
       "      <td>130</td>\n",
       "    </tr>\n",
       "    <tr>\n",
       "      <th>8</th>\n",
       "      <td>PERSIAN</td>\n",
       "      <td>129</td>\n",
       "    </tr>\n",
       "    <tr>\n",
       "      <th>9</th>\n",
       "      <td>SNOWSHOE</td>\n",
       "      <td>126</td>\n",
       "    </tr>\n",
       "  </tbody>\n",
       "</table>\n",
       "</div>"
      ],
      "text/plain": [
       "                 Breed  Count\n",
       "0   DOMESTIC SHORTHAIR  55161\n",
       "1  DOMESTIC MEDIUMHAIR   5986\n",
       "2    DOMESTIC LONGHAIR   3295\n",
       "3   AMERICAN SHORTHAIR   1607\n",
       "4              SIAMESE   1281\n",
       "5           MAINE COON    290\n",
       "6         RUSSIAN BLUE    156\n",
       "7               BENGAL    130\n",
       "8              PERSIAN    129\n",
       "9             SNOWSHOE    126"
      ]
     },
     "execution_count": 8,
     "metadata": {},
     "output_type": "execute_result"
    }
   ],
   "source": [
    "# Cat breeds\n",
    "pd.read_sql_query(\"\"\"\n",
    "    SELECT \n",
    "    DISTINCT PrimaryBreed as 'Breed', \n",
    "    COUNT(*) as 'Count' \n",
    "    FROM animalservices_data\n",
    "    WHERE AnimalType = 'CAT'\n",
    "    GROUP BY PrimaryBreed\n",
    "    ORDER BY Count DESC\n",
    "    LIMIT 10\n",
    "    ;\n",
    "\"\"\", conn)"
   ]
  },
  {
   "cell_type": "code",
   "execution_count": 9,
   "metadata": {},
   "outputs": [
    {
     "data": {
      "text/html": [
       "<div>\n",
       "<style scoped>\n",
       "    .dataframe tbody tr th:only-of-type {\n",
       "        vertical-align: middle;\n",
       "    }\n",
       "\n",
       "    .dataframe tbody tr th {\n",
       "        vertical-align: top;\n",
       "    }\n",
       "\n",
       "    .dataframe thead th {\n",
       "        text-align: right;\n",
       "    }\n",
       "</style>\n",
       "<table border=\"1\" class=\"dataframe\">\n",
       "  <thead>\n",
       "    <tr style=\"text-align: right;\">\n",
       "      <th></th>\n",
       "      <th>Breed</th>\n",
       "      <th>Count</th>\n",
       "    </tr>\n",
       "  </thead>\n",
       "  <tbody>\n",
       "    <tr>\n",
       "      <th>0</th>\n",
       "      <td>PIT BULL TERRIER</td>\n",
       "      <td>14911</td>\n",
       "    </tr>\n",
       "    <tr>\n",
       "      <th>1</th>\n",
       "      <td>LABRADOR RETRIEVER</td>\n",
       "      <td>9615</td>\n",
       "    </tr>\n",
       "    <tr>\n",
       "      <th>2</th>\n",
       "      <td>GERMAN SHEPHERD DOG</td>\n",
       "      <td>5495</td>\n",
       "    </tr>\n",
       "    <tr>\n",
       "      <th>3</th>\n",
       "      <td>BEAGLE</td>\n",
       "      <td>5347</td>\n",
       "    </tr>\n",
       "    <tr>\n",
       "      <th>4</th>\n",
       "      <td>BOXER</td>\n",
       "      <td>2897</td>\n",
       "    </tr>\n",
       "    <tr>\n",
       "      <th>5</th>\n",
       "      <td>CHIHUAHUA - SMOOTH COATED</td>\n",
       "      <td>2621</td>\n",
       "    </tr>\n",
       "    <tr>\n",
       "      <th>6</th>\n",
       "      <td>AMERICAN PIT BULL TERRIER</td>\n",
       "      <td>2312</td>\n",
       "    </tr>\n",
       "    <tr>\n",
       "      <th>7</th>\n",
       "      <td>ROTTWEILER</td>\n",
       "      <td>2264</td>\n",
       "    </tr>\n",
       "    <tr>\n",
       "      <th>8</th>\n",
       "      <td>CHOW CHOW</td>\n",
       "      <td>2203</td>\n",
       "    </tr>\n",
       "    <tr>\n",
       "      <th>9</th>\n",
       "      <td>BORDER COLLIE</td>\n",
       "      <td>1635</td>\n",
       "    </tr>\n",
       "  </tbody>\n",
       "</table>\n",
       "</div>"
      ],
      "text/plain": [
       "                       Breed  Count\n",
       "0           PIT BULL TERRIER  14911\n",
       "1         LABRADOR RETRIEVER   9615\n",
       "2        GERMAN SHEPHERD DOG   5495\n",
       "3                     BEAGLE   5347\n",
       "4                      BOXER   2897\n",
       "5  CHIHUAHUA - SMOOTH COATED   2621\n",
       "6  AMERICAN PIT BULL TERRIER   2312\n",
       "7                 ROTTWEILER   2264\n",
       "8                  CHOW CHOW   2203\n",
       "9              BORDER COLLIE   1635"
      ]
     },
     "execution_count": 9,
     "metadata": {},
     "output_type": "execute_result"
    }
   ],
   "source": [
    "# Dog breeds\n",
    "pd.read_sql_query(\"\"\"\n",
    "    SELECT \n",
    "    DISTINCT PrimaryBreed as 'Breed', \n",
    "    COUNT(*) as 'Count' \n",
    "    FROM animalservices_data\n",
    "    WHERE AnimalType = 'DOG'\n",
    "    GROUP BY PrimaryBreed\n",
    "    ORDER BY Count DESC\n",
    "    LIMIT 10\n",
    "    ;\n",
    "\"\"\", conn)"
   ]
  },
  {
   "cell_type": "markdown",
   "metadata": {},
   "source": [
    "## Intake reasons\n",
    "The dataset includes information about noted intake reasons for animals brought in to Animal Services. It should be noted that the majority of records do not have an entry for this field: 77 percent of entries for both cats and dogs did not include a reason.\n",
    "\n",
    "Sampling the entries that do include an intake reason, it is evident that the intake reasons for cats and dogs differ. Cats and dogs both overwhelmingly come in as strays, with cats coming in as strays slightly more frequently. When examining the top ten intake reasons, one can see that there are a variety of different reasons for each animal. For cats, the second most common reason for intake is that an owner surrendered or lost the animal due to having too many animals. For dogs, the second most common reason is \"move,\" which illustrates that most owners surrender or lose their dogs due to the inability to make arrangements for their pet when moving to a new home. \n",
    "\n",
    "Both pets share the following reasons in the top ten: moving house, cost of ownership, landlord, no time for the pet, and having too many. Judging from the following pie charts, it appears more likely that cats would be surrended due to allergies than dogs, and dogs were more likely to be surrendered due to aggression and behavioral problems."
   ]
  },
  {
   "cell_type": "code",
   "execution_count": 62,
   "metadata": {},
   "outputs": [],
   "source": [
    "# Query the Top 10 IntakeReasons per Cat\n",
    "# This does not include the many rows that are 'None'\n",
    "catIntake = pd.read_sql_query(\"\"\"\n",
    "    SELECT \n",
    "    DISTINCT IntakeReason as 'Intake Reason', \n",
    "    COUNT(*) as 'Count' \n",
    "    FROM animalservices_data\n",
    "    WHERE AnimalType = 'CAT' AND IntakeReason != 'None'\n",
    "    GROUP BY IntakeReason\n",
    "    ORDER BY Count DESC\n",
    "    LIMIT 10\n",
    "    ;\n",
    "\"\"\", conn)\n"
   ]
  },
  {
   "cell_type": "code",
   "execution_count": 128,
   "metadata": {},
   "outputs": [],
   "source": [
    "# Query the Top 10 IntakeReasons per Dog\n",
    "# This does not include the many rows that are 'None'\n",
    "dogIntake = pd.read_sql_query(\"\"\"\n",
    "    SELECT \n",
    "    DISTINCT IntakeReason as 'Intake Reason', \n",
    "    COUNT(*) as 'Count' \n",
    "    FROM animalservices_data\n",
    "    WHERE AnimalType = 'DOG' AND IntakeReason != 'None'\n",
    "    GROUP BY IntakeReason\n",
    "    ORDER BY Count DESC\n",
    "    LIMIT 10\n",
    "    ;\n",
    "\"\"\", conn)\n",
    "df = pd.read_sql_query(\"\"\"\n",
    "    SELECT \n",
    "    IntakeReason\n",
    "    FROM animalservices_data\n",
    "    WHERE AnimalType = 'DOG' OR AnimalType = 'CAT'\n",
    "    ;\n",
    "\"\"\", conn).fillna('None')\n"
   ]
  },
  {
   "cell_type": "code",
   "execution_count": 129,
   "metadata": {},
   "outputs": [
    {
     "data": {
      "text/plain": [
       "145886"
      ]
     },
     "execution_count": 129,
     "metadata": {},
     "output_type": "execute_result"
    }
   ],
   "source": [
    "# Total number of entires\n",
    "totalEntries = df['IntakeReason'].count()\n",
    "totalEntries"
   ]
  },
  {
   "cell_type": "code",
   "execution_count": 130,
   "metadata": {},
   "outputs": [
    {
     "data": {
      "text/plain": [
       "IntakeReason    112060\n",
       "dtype: int64"
      ]
     },
     "execution_count": 130,
     "metadata": {},
     "output_type": "execute_result"
    }
   ],
   "source": [
    "# Total number of entries that do not have an intake reason\n",
    "totalNoneEntries = df.loc[df['IntakeReason'] == 'None'].count()\n",
    "totalNoneEntries"
   ]
  },
  {
   "cell_type": "code",
   "execution_count": 131,
   "metadata": {},
   "outputs": [
    {
     "data": {
      "text/plain": [
       "IntakeReason    76.813402\n",
       "dtype: float64"
      ]
     },
     "execution_count": 131,
     "metadata": {},
     "output_type": "execute_result"
    }
   ],
   "source": [
    "# Get percentage\n",
    "(totalNoneEntries / totalEntries) * 100"
   ]
  },
  {
   "cell_type": "code",
   "execution_count": 37,
   "metadata": {
    "scrolled": false
   },
   "outputs": [
    {
     "data": {
      "image/png": "[encoded data removed]",
      "text/plain": [
       "<Figure size 900x540 with 2 Axes>"
      ]
     },
     "metadata": {},
     "output_type": "display_data"
    }
   ],
   "source": [
    "fig, (ax1, ax2) = plt.subplots(1,2, figsize=(10, 6))\n",
    "\n",
    "# Pie chart for cat intake reasons\n",
    "labels = catIntake[\"Intake Reason\"]\n",
    "catCount = catIntake[\"Count\"]\n",
    "explode = (0, 0.1, 0, 0, 0, 0, 0, 0, 0, 0)\n",
    "ax1.pie(catCount, labels=labels, explode=explode)\n",
    "ax1.set_title(\"Cat Intake Reasons\")\n",
    "\n",
    "# Pie chart for dog intake reasons\n",
    "labels = dogIntake[\"Intake Reason\"]\n",
    "dogCount = dogIntake[\"Count\"]\n",
    "explode = (0, 0.1, 0, 0, 0, 0, 0, 0, 0, 0)\n",
    "ax2.pie(dogCount, labels=labels, explode=explode)\n",
    "ax2.set_title(\"Dog Intake Reasons\")\n",
    "\n",
    "plt.subplots_adjust(wspace=0.6, left=0.1)\n",
    "plt.show()"
   ]
  },
  {
   "cell_type": "code",
   "execution_count": null,
   "metadata": {},
   "outputs": [],
   "source": []
  },
  {
   "cell_type": "markdown",
   "metadata": {},
   "source": [
    "### Conclusion"
   ]
  }
 ],
 "metadata": {
  "kernelspec": {
   "display_name": "Python 3",
   "language": "python",
   "name": "python3"
  },
  "language_info": {
   "codemirror_mode": {
    "name": "ipython",
    "version": 3
   },
   "file_extension": ".py",
   "mimetype": "text/x-python",
   "name": "python",
   "nbconvert_exporter": "python",
   "pygments_lexer": "ipython3",
   "version": "3.7.3"
  }
 },
 "nbformat": 4,
 "nbformat_minor": 2
}
